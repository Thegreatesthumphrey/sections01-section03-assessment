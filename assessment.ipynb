{
 "cells": [
  {
   "cell_type": "markdown",
   "metadata": {
    "toc": true
   },
   "source": [
    "<h1>Table of Contents<span class=\"tocSkip\"></span></h1>\n",
    "<div class=\"toc\"><ul class=\"toc-item\"><li><span><a href=\"#S01---Part-A\" data-toc-modified-id=\"S01---Part-A-1\"><span class=\"toc-item-num\">1&nbsp;&nbsp;</span>S01 - Part A</a></span></li><li><span><a href=\"#S01---Part-B\" data-toc-modified-id=\"S01---Part-B-2\"><span class=\"toc-item-num\">2&nbsp;&nbsp;</span>S01 - Part B</a></span></li><li><span><a href=\"#S02---Part-A\" data-toc-modified-id=\"S02---Part-A-3\"><span class=\"toc-item-num\">3&nbsp;&nbsp;</span>S02 - Part A</a></span></li><li><span><a href=\"#S02---Part-B\" data-toc-modified-id=\"S02---Part-B-4\"><span class=\"toc-item-num\">4&nbsp;&nbsp;</span>S02 - Part B</a></span></li><li><span><a href=\"#S03---Part-A\" data-toc-modified-id=\"S03---Part-A-5\"><span class=\"toc-item-num\">5&nbsp;&nbsp;</span>S03 - Part A</a></span></li><li><span><a href=\"#S03---Part-B\" data-toc-modified-id=\"S03---Part-B-6\"><span class=\"toc-item-num\">6&nbsp;&nbsp;</span>S03 - Part B</a></span></li><li><span><a href=\"#Level-Up---Part-A\" data-toc-modified-id=\"Level-Up---Part-A-7\"><span class=\"toc-item-num\">7&nbsp;&nbsp;</span>Level Up - Part A</a></span></li><li><span><a href=\"#Level-Up---Part-B\" data-toc-modified-id=\"Level-Up---Part-B-8\"><span class=\"toc-item-num\">8&nbsp;&nbsp;</span>Level Up - Part B</a></span></li><li><span><a href=\"#Level-Up---Part-C\" data-toc-modified-id=\"Level-Up---Part-C-9\"><span class=\"toc-item-num\">9&nbsp;&nbsp;</span>Level Up - Part C</a></span></li></ul></div>"
   ]
  },
  {
   "cell_type": "markdown",
   "metadata": {},
   "source": [
    "# Necessary Goals\n",
    "You will\n",
    "- Section01\n",
    "    - a. create a word counts dictionary\n",
    "    - b. find most common word\n",
    "- Section02\n",
    "    - a. calculate the mean and standard deviation of the word counts\n",
    "- Section03\n",
    "    - write a function that takes in a parameter to complete a task\n",
    "    - write a function that takes in multiple parameters to complete a task\n",
    "\n",
    "# Level Up Goals\n",
    "- write a function that solves a particular logical task\n",
    "- write a lambda function to complete a task"
   ]
  },
  {
   "cell_type": "code",
   "execution_count": 59,
   "metadata": {},
   "outputs": [
    {
     "data": {
      "text/plain": [
       "<module 'solutions.solutions' from 'C:\\\\Users\\\\Girls Club\\\\Flatiron\\\\Module_1\\\\sections01-section03-assessment\\\\solutions\\\\solutions.py'>"
      ]
     },
     "execution_count": 59,
     "metadata": {},
     "output_type": "execute_result"
    }
   ],
   "source": [
    "# just run this cell\n",
    "from importlib import reload\n",
    "import solutions.solutions as sol\n",
    "reload(sol)"
   ]
  },
  {
   "cell_type": "markdown",
   "metadata": {},
   "source": [
    "# Section 01: Strings\n",
    "Using the variable `lyrics` below, please solve the following questions"
   ]
  },
  {
   "cell_type": "code",
   "execution_count": 89,
   "metadata": {},
   "outputs": [],
   "source": [
    "# this cell will just load and open the lyrics\n",
    "# just run this cell\n",
    "with open(\"data/lyrics.txt\", \"r\") as f:\n",
    "    lyrics = f.read()\n",
    "lyrics\n",
    "import string"
   ]
  },
  {
   "cell_type": "markdown",
   "metadata": {},
   "source": [
    "## S01 - Part A\n",
    "create a dictionary called `word_counter` that counts the number of words in `lyrics`.\n",
    "- remove all puntuation using `string punctuation`\n",
    "- lowercase the entire string\n",
    "- split by `\" \"`"
   ]
  },
  {
   "cell_type": "code",
   "execution_count": 113,
   "metadata": {},
   "outputs": [
    {
     "name": "stdout",
     "output_type": "stream",
     "text": [
      "{'shell': 8, 'only': 2, 'come': 2, 'out': 15, 'at': 2, 'nights': 1, 'the': 8, 'lean': 1, 'and': 4, 'hungry': 1, 'type': 1, 'nothing': 1, 'is': 5, 'new': 1, 'ive': 1, 'seen': 1, 'her': 2, 'here': 25, 'before': 1, 'watching': 2, 'waiting': 2, 'ooh': 3, 'shes': 15, 'sittin': 1, 'with': 1, 'you': 10, 'but': 2, 'eyes': 1, 'are': 1, 'on': 1, 'door': 1, '': 6, 'so': 1, 'many': 1, 'have': 1, 'paid': 1, 'to': 1, 'see': 1, 'what': 2, 'think': 1, 'youre': 2, 'gettin': 1, 'for': 2, 'free': 1, 'woman': 2, 'wild': 2, 'a': 15, 'shecat': 1, 'tamed': 1, 'by': 1, 'purr': 1, 'of': 1, 'jaguar': 1, 'moneys': 1, 'matter': 2, 'if': 2, 'in': 2, 'it': 1, 'love': 1, 'aint': 1, 'gonna': 1, 'get': 1, 'too': 1, 'far': 1, 'ohoh': 19, 'she': 26, 'comes': 24, 'watch': 13, 'boy': 7, 'chew': 6, 'up': 6, 'maneater': 12, 'i': 3, 'wouldnt': 1, 'were': 1, 'know': 1, 'can': 1, 'do': 1, 'deadly': 1, 'man': 1, 'could': 1, 'really': 1, 'rip': 1, 'your': 1, 'world': 1, 'apart': 1, 'mind': 1, 'over': 1, 'beauty': 1, 'there': 1, 'beast': 1, 'heart': 1, 'instrumental': 1, 'interlude': 1, 'ooooooooh': 1, 'whoaoh': 1, 'night': 1, 'oohoh': 2, 'whoooa': 1, 'oh': 2, 'yeah': 2}\n"
     ]
    }
   ],
   "source": [
    "# build your word_counter here\n",
    "# Your code here\n",
    "word_counter = {}\n",
    "def solution(x):\n",
    "    lyrics_clean = x.replace('\\n', ' ')\n",
    "\n",
    "    punctuation = string.punctuation\n",
    "    for x in punctuation:\n",
    "        for char in lyrics_clean:\n",
    "            if x == char:\n",
    "                lyrics_clean.replace(x, '')\n",
    "\n",
    "    lyrics_clean = lyrics_clean.replace('(', '').replace(')', '').replace(',', '').replace(\"'\", '').replace('[', '').replace(']', '').replace('-', '')\n",
    "    lyrics_clean = lyrics_clean.lower()\n",
    "    lyrics_clean = lyrics_clean.split(\" \")\n",
    "\n",
    "    for word in lyrics_clean:\n",
    "        if word in word_counter:\n",
    "            word_counter[word] += 1\n",
    "        else: \n",
    "            word_counter.update({word:1})\n",
    "solution(lyrics)\n",
    "print(word_counter)"
   ]
  },
  {
   "cell_type": "code",
   "execution_count": 114,
   "metadata": {},
   "outputs": [
    {
     "data": {
      "text/plain": [
       "{'shell': 8,\n",
       " 'only': 2,\n",
       " 'come': 2,\n",
       " 'out': 15,\n",
       " 'at': 2,\n",
       " 'nights': 1,\n",
       " 'the': 8,\n",
       " 'lean': 1,\n",
       " 'and': 4,\n",
       " 'hungry': 1,\n",
       " 'type': 1,\n",
       " 'nothing': 1,\n",
       " 'is': 5,\n",
       " 'new': 1,\n",
       " 'ive': 1,\n",
       " 'seen': 1,\n",
       " 'her': 2,\n",
       " 'here': 25,\n",
       " 'before': 1,\n",
       " 'watching': 2,\n",
       " 'waiting': 2,\n",
       " 'ooh': 3,\n",
       " 'shes': 15,\n",
       " 'sittin': 1,\n",
       " 'with': 1,\n",
       " 'you': 10,\n",
       " 'but': 2,\n",
       " 'eyes': 1,\n",
       " 'are': 1,\n",
       " 'on': 1,\n",
       " 'door': 1,\n",
       " '': 6,\n",
       " 'so': 1,\n",
       " 'many': 1,\n",
       " 'have': 1,\n",
       " 'paid': 1,\n",
       " 'to': 1,\n",
       " 'see': 1,\n",
       " 'what': 2,\n",
       " 'think': 1,\n",
       " 'youre': 2,\n",
       " 'gettin': 1,\n",
       " 'for': 2,\n",
       " 'free': 1,\n",
       " 'woman': 2,\n",
       " 'wild': 2,\n",
       " 'a': 15,\n",
       " 'shecat': 1,\n",
       " 'tamed': 1,\n",
       " 'by': 1,\n",
       " 'purr': 1,\n",
       " 'of': 1,\n",
       " 'jaguar': 1,\n",
       " 'moneys': 1,\n",
       " 'matter': 2,\n",
       " 'if': 2,\n",
       " 'in': 2,\n",
       " 'it': 1,\n",
       " 'love': 1,\n",
       " 'aint': 1,\n",
       " 'gonna': 1,\n",
       " 'get': 1,\n",
       " 'too': 1,\n",
       " 'far': 1,\n",
       " 'ohoh': 19,\n",
       " 'she': 26,\n",
       " 'comes': 24,\n",
       " 'watch': 13,\n",
       " 'boy': 7,\n",
       " 'chew': 6,\n",
       " 'up': 6,\n",
       " 'maneater': 12,\n",
       " 'i': 3,\n",
       " 'wouldnt': 1,\n",
       " 'were': 1,\n",
       " 'know': 1,\n",
       " 'can': 1,\n",
       " 'do': 1,\n",
       " 'deadly': 1,\n",
       " 'man': 1,\n",
       " 'could': 1,\n",
       " 'really': 1,\n",
       " 'rip': 1,\n",
       " 'your': 1,\n",
       " 'world': 1,\n",
       " 'apart': 1,\n",
       " 'mind': 1,\n",
       " 'over': 1,\n",
       " 'beauty': 1,\n",
       " 'there': 1,\n",
       " 'beast': 1,\n",
       " 'heart': 1,\n",
       " 'instrumental': 1,\n",
       " 'interlude': 1,\n",
       " 'ooooooooh': 1,\n",
       " 'whoaoh': 1,\n",
       " 'night': 1,\n",
       " 'oohoh': 2,\n",
       " 'whoooa': 1,\n",
       " 'oh': 2,\n",
       " 'yeah': 2}"
      ]
     },
     "execution_count": 114,
     "metadata": {},
     "output_type": "execute_result"
    }
   ],
   "source": [
    "# get actual word_counter here\n",
    "# just run this cell\n",
    "\n",
    "word_counter_test = sol.section1_partA(lyrics)\n",
    "word_counter_test"
   ]
  },
  {
   "cell_type": "code",
   "execution_count": 115,
   "metadata": {},
   "outputs": [
    {
     "name": "stdout",
     "output_type": "stream",
     "text": [
      "test passed\n"
     ]
    }
   ],
   "source": [
    "# Test your code here\n",
    "\n",
    "# just run this cell\n",
    "\n",
    "try:\n",
    "    assert word_counter==word_counter_test\n",
    "    print('test passed')\n",
    "except Exception as e:\n",
    "    print(\"word_counter does not equal word_counter_test\")\n"
   ]
  },
  {
   "cell_type": "markdown",
   "metadata": {},
   "source": [
    "## S01 - Part B"
   ]
  },
  {
   "cell_type": "code",
   "execution_count": 130,
   "metadata": {},
   "outputs": [],
   "source": [
    "# Find the word with the highest counts\n",
    "# Your code here\n",
    "\n",
    "\n",
    "sorted_words = sorted(word_counter.items(), key = lambda x : x[1])\n",
    "most_common_word = sorted_words[-1][0]\n",
    "\n",
    "\n"
   ]
  },
  {
   "cell_type": "code",
   "execution_count": 131,
   "metadata": {},
   "outputs": [],
   "source": [
    "# get actual most_common_word\n",
    "# just run this cell\n",
    "\n",
    "most_common_word_test = sol.section1_partB(lyrics)"
   ]
  },
  {
   "cell_type": "code",
   "execution_count": 132,
   "metadata": {},
   "outputs": [
    {
     "name": "stdout",
     "output_type": "stream",
     "text": [
      "test passed\n"
     ]
    }
   ],
   "source": [
    "# test your solution here\n",
    "# just run this cell\n",
    "\n",
    "try:\n",
    "    assert most_common_word==most_common_word_test\n",
    "    print('test passed')\n",
    "except Exception as e:\n",
    "    print(\"most_common_word does not equal most_common_word_test\")"
   ]
  },
  {
   "cell_type": "markdown",
   "metadata": {},
   "source": [
    "# Section 02: Mean and Standard Deviation\n",
    "using the dictionary `word_counter` from above, solve the following problems"
   ]
  },
  {
   "cell_type": "markdown",
   "metadata": {},
   "source": [
    "## S02 - Part A"
   ]
  },
  {
   "cell_type": "code",
   "execution_count": 134,
   "metadata": {},
   "outputs": [],
   "source": [
    "# calculate the mean word counts\n",
    "# Your code here\n",
    "# you can write a function or just do it outright. \n",
    "\n",
    "mean_word_counts = None\n",
    "\n",
    "values = word_counter.values()\n",
    "mean_word_counts = sum(values) / len(values)"
   ]
  },
  {
   "cell_type": "code",
   "execution_count": 135,
   "metadata": {},
   "outputs": [],
   "source": [
    "# get actual mean word counts\n",
    "# just run this cell\n",
    "\n",
    "mean_word_counts_test = sol.section2_partA(lyrics)"
   ]
  },
  {
   "cell_type": "code",
   "execution_count": 136,
   "metadata": {},
   "outputs": [
    {
     "name": "stdout",
     "output_type": "stream",
     "text": [
      "test passed\n"
     ]
    }
   ],
   "source": [
    "# test your solution here\n",
    "# just run this cell\n",
    "\n",
    "try:\n",
    "    assert mean_word_counts==mean_word_counts_test\n",
    "    print('test passed')\n",
    "except Exception as e:\n",
    "    print(\"mean_word_counts does not equal mean_word_counts_test\")"
   ]
  },
  {
   "cell_type": "markdown",
   "metadata": {},
   "source": [
    "## S02 - Part B"
   ]
  },
  {
   "cell_type": "code",
   "execution_count": 149,
   "metadata": {},
   "outputs": [],
   "source": [
    "# calculate the standard deviation of the word_counts\n",
    "# you can write a function or just calculate it out right.  It's up to you.\n",
    "# Your code here\n",
    "import numpy as np\n",
    "std_word_counts = np.std(list(values))\n",
    "std_word_counts = round(std_word_counts, 13)"
   ]
  },
  {
   "cell_type": "code",
   "execution_count": 150,
   "metadata": {},
   "outputs": [
    {
     "data": {
      "text/plain": [
       "5.2021577117911"
      ]
     },
     "execution_count": 150,
     "metadata": {},
     "output_type": "execute_result"
    }
   ],
   "source": [
    "# get actual standard deviation of word counts\n",
    "# just run this cell\n",
    "\n",
    "std_word_counts_test = sol.section2_partB(lyrics)\n",
    "std_word_counts_test = round(std_word_counts_test, 13)\n",
    "std_word_counts_test"
   ]
  },
  {
   "cell_type": "code",
   "execution_count": 151,
   "metadata": {},
   "outputs": [
    {
     "name": "stdout",
     "output_type": "stream",
     "text": [
      "test passed\n"
     ]
    }
   ],
   "source": [
    "# test your solution here\n",
    "# just run this cell\n",
    "\n",
    "try:\n",
    "    assert std_word_counts==std_word_counts_test\n",
    "    print('test passed')\n",
    "except Exception as e:\n",
    "    print(\"std_word_counts does not equal std_word_counts_test\")"
   ]
  },
  {
   "cell_type": "markdown",
   "metadata": {},
   "source": [
    "# Section03 - Functions"
   ]
  },
  {
   "cell_type": "markdown",
   "metadata": {},
   "source": [
    "## S03 - Part A"
   ]
  },
  {
   "cell_type": "code",
   "execution_count": 165,
   "metadata": {},
   "outputs": [],
   "source": [
    "# Your code here\n",
    "# write the function below\n",
    "def transform_odds(lst):\n",
    "    \"\"\"\n",
    "    this function should count\n",
    "    the number of odds in a list\n",
    "    then do the following calculation for every odd\n",
    "    - multiply each odd by 3\n",
    "    - add 1 to each odd number\n",
    "    return the sum of all of these numbers\n",
    "    \"\"\"\n",
    "    total = 0\n",
    "    for num in lst:\n",
    "        if num % 2 != 0:\n",
    "            total += num*3 + 1\n",
    "    return total\n",
    "    pass"
   ]
  },
  {
   "cell_type": "code",
   "execution_count": 166,
   "metadata": {},
   "outputs": [],
   "source": [
    "# run cell to generate a list of 100 random numbers\n",
    "# just run this cell\n",
    "\n",
    "import random\n",
    "random_nums = [random.randint(0, 1000) for i in range(100)]"
   ]
  },
  {
   "cell_type": "code",
   "execution_count": 167,
   "metadata": {},
   "outputs": [
    {
     "name": "stdout",
     "output_type": "stream",
     "text": [
      "74964\n"
     ]
    }
   ],
   "source": [
    "# run this cell to transform the random_numbers and store them to transformed_odds\n",
    "# just run this cell\n",
    "\n",
    "transformed_odds = transform_odds(random_nums)\n",
    "print(transformed_odds)"
   ]
  },
  {
   "cell_type": "code",
   "execution_count": 168,
   "metadata": {},
   "outputs": [],
   "source": [
    "# run this cell to get the actual value of transformed odds\n",
    "# just run this cell\n",
    "\n",
    "transformed_odds_test = sol.section3_partA(random_nums)"
   ]
  },
  {
   "cell_type": "code",
   "execution_count": 169,
   "metadata": {},
   "outputs": [
    {
     "name": "stdout",
     "output_type": "stream",
     "text": [
      "test passed\n"
     ]
    }
   ],
   "source": [
    "# test your solution here\n",
    "# just run this cell\n",
    "\n",
    "try:\n",
    "    assert transformed_odds==transformed_odds_test\n",
    "    print('test passed')\n",
    "except Exception as e:\n",
    "    print(\"transformed_odds does not equal transformed_odds_test\")"
   ]
  },
  {
   "cell_type": "markdown",
   "metadata": {},
   "source": [
    "## S03 - Part B"
   ]
  },
  {
   "cell_type": "code",
   "execution_count": 260,
   "metadata": {},
   "outputs": [],
   "source": [
    "# Your code here\n",
    "# write a function that checks the numbers in a list numbers\n",
    "# and checks if any of the numbers are divisible in a list of divisors divisors\n",
    "# it should return the all numbers in order they're given in the list \n",
    "# as a string\n",
    "\n",
    "def find_if_divisible(numbers, divisors):\n",
    "    \"\"\"\n",
    "    Example: \n",
    "    find_if_divisible([10, 19, 15, 20, 23, 30, 50, 100], [2, 8, 5])\n",
    "    should return \n",
    "    \"1015203050100\"\n",
    "    \n",
    "    since all of these numbers are divisible by at least one number in the divisors list\n",
    "    \"\"\"\n",
    "    nums = ''\n",
    "    for num in numbers:\n",
    "        for div in divisors:\n",
    "            if num % div == 0:\n",
    "                nums += str(num)\n",
    "                break\n",
    "    return nums\n",
    "    "
   ]
  },
  {
   "cell_type": "code",
   "execution_count": 261,
   "metadata": {},
   "outputs": [],
   "source": [
    "# run this cell to get a random set of numbers and divisors\n",
    "# just run this cell\n",
    "\n",
    "numbers = [random.randint(0, 50) for i in range(200)]\n",
    "divisors = [random.randint(1, 20) for i in range(5)]"
   ]
  },
  {
   "cell_type": "code",
   "execution_count": 262,
   "metadata": {},
   "outputs": [
    {
     "name": "stdout",
     "output_type": "stream",
     "text": [
      "4444274024454833361588142445101452235834364612163242105035225020233345321032103527254039824615262048361292620451510122825321628383530253244353950441532015528168522010626272836433304434382524282423327533351548464038261833184252824241822253\n"
     ]
    }
   ],
   "source": [
    "# get your solution for the random numbers above\n",
    "# just run this cell\n",
    "\n",
    "number_string = find_if_divisible(numbers=numbers, divisors=divisors)\n",
    "print(number_string)"
   ]
  },
  {
   "cell_type": "code",
   "execution_count": 263,
   "metadata": {},
   "outputs": [],
   "source": [
    "# get the actual solution for the random numbers above\n",
    "# just run this cell\n",
    "\n",
    "number_string_test = sol.section3_partB(numbers, divisors)"
   ]
  },
  {
   "cell_type": "code",
   "execution_count": 264,
   "metadata": {},
   "outputs": [
    {
     "name": "stdout",
     "output_type": "stream",
     "text": [
      "passed test\n"
     ]
    }
   ],
   "source": [
    "# test your solution here\n",
    "# just run this cell\n",
    "\n",
    "try:\n",
    "    assert number_string==number_string_test\n",
    "    print('passed test')\n",
    "except Exception as e:\n",
    "    print(\"number_string does not equal number_string_test\")"
   ]
  },
  {
   "cell_type": "markdown",
   "metadata": {},
   "source": [
    "# Level Up (Optional) Problems"
   ]
  },
  {
   "cell_type": "markdown",
   "metadata": {},
   "source": [
    "## Level Up - Part A"
   ]
  },
  {
   "cell_type": "code",
   "execution_count": 287,
   "metadata": {},
   "outputs": [
    {
     "ename": "SyntaxError",
     "evalue": "invalid syntax (<ipython-input-287-4d68e929a35c>, line 14)",
     "output_type": "error",
     "traceback": [
      "\u001b[1;36m  File \u001b[1;32m\"<ipython-input-287-4d68e929a35c>\"\u001b[1;36m, line \u001b[1;32m14\u001b[0m\n\u001b[1;33m    elif:\u001b[0m\n\u001b[1;37m        ^\u001b[0m\n\u001b[1;31mSyntaxError\u001b[0m\u001b[1;31m:\u001b[0m invalid syntax\n"
     ]
    }
   ],
   "source": [
    "# Your code here\n",
    "\n",
    "def is_prime(n):\n",
    "    \"\"\"\n",
    "    write a function that determines if a number is prime\n",
    "    return True if n is prime else return False\n",
    "    \n",
    "    a number, n, is prime if the only divisors of the number are 1 and n \n",
    "    \"\"\"\n",
    "    for i in range(2, n):\n",
    "        if n % i == 0:\n",
    "            return False\n",
    "            pass\n",
    "        elif:\n",
    "            continue\n",
    "            return True\n",
    "        \n",
    "    "
   ]
  },
  {
   "cell_type": "code",
   "execution_count": 288,
   "metadata": {},
   "outputs": [
    {
     "name": "stdout",
     "output_type": "stream",
     "text": [
      "test passed\n",
      "test passed\n",
      "test passed\n",
      "test passed\n",
      "test passed\n",
      "test passed\n",
      "test passed\n",
      "test passed\n",
      "test passed\n",
      "test passed\n"
     ]
    }
   ],
   "source": [
    "# run all tests in this cell\n",
    "# just run this cell\n",
    "\n",
    "random_nums = [random.randint(5, 50) for i in range(10)]\n",
    "for n in random_nums:\n",
    "    actual_result = is_prime(n)\n",
    "    expected_result = sol.levelUp_partA(n)\n",
    "    try:\n",
    "        assert expected_result==actual_result\n",
    "        print('test passed')\n",
    "    except Exception as e:\n",
    "        print(\"expected_result does not equal actual_result\")\n",
    "        print(f\"{n}  is {'NOT'*(1-expected_result)} prime but you returned {actual_result}\")"
   ]
  },
  {
   "cell_type": "markdown",
   "metadata": {},
   "source": [
    "## Level Up - Part B"
   ]
  },
  {
   "cell_type": "code",
   "execution_count": 317,
   "metadata": {},
   "outputs": [],
   "source": [
    "# complete this function\n",
    "# Your code here\n",
    "\n",
    "def find_common_elements(lst1, lst2):\n",
    "    \"\"\"\n",
    "    write a function that returns a set\n",
    "    of all of the elements that are in both\n",
    "    lst 1 and lst2\n",
    "    \n",
    "    Example\n",
    "    input:\n",
    "       - lst1 = [2, 3, 5, 3, 5, 3]\n",
    "       - lst2 = [3, 5, 6]\n",
    "       \n",
    "    return:\n",
    "       - (3, 5)\n",
    "    \"\"\"\n",
    "    lst3 = []\n",
    "    for x in lst1:\n",
    "        for y in lst2:\n",
    "            if x == y:\n",
    "                lst3.append(x)\n",
    "    return set(lst3)"
   ]
  },
  {
   "cell_type": "code",
   "execution_count": 318,
   "metadata": {},
   "outputs": [
    {
     "name": "stdout",
     "output_type": "stream",
     "text": [
      "test passed\n",
      "{40, 73, 54}\n",
      "test passed\n",
      "{48, 80, 94}\n",
      "test passed\n",
      "{17, 51, 22}\n",
      "test passed\n",
      "{42, 34, 87}\n",
      "test passed\n",
      "{61}\n",
      "test passed\n",
      "{2, 79}\n",
      "test passed\n",
      "{71}\n",
      "test passed\n",
      "{45, 18, 54, 56, 58}\n",
      "test passed\n",
      "{62, 48, 100, 30}\n",
      "test passed\n",
      "{80, 97, 20}\n"
     ]
    }
   ],
   "source": [
    "# run the following tests\n",
    "# just run this cell\n",
    "\n",
    "for i in range(10):\n",
    "    lst1 = [random.randint(0, 100) for i in range(random.randint(15, 20))]\n",
    "    lst2 = [random.randint(0, 100) for i in range(random.randint(15, 20))]\n",
    "    actual_result = find_common_elements(lst1, lst2)\n",
    "    expected_result = sol.levelUp_partB(lst1, lst2)\n",
    "    try:\n",
    "        assert expected_result==actual_result\n",
    "        print('test passed')\n",
    "    except Exception as e:\n",
    "        print(\"expected_result does not equal actual_result\")\n",
    "    print(find_common_elements(lst1, lst2))"
   ]
  },
  {
   "cell_type": "markdown",
   "metadata": {},
   "source": [
    "## Level Up - Part C"
   ]
  },
  {
   "cell_type": "code",
   "execution_count": 343,
   "metadata": {},
   "outputs": [],
   "source": [
    "# write a lambda function called rng that returns the range of a list of numbers\n",
    "# Your code here\n",
    "rng = lambda x: max(x) - min(x)\n"
   ]
  },
  {
   "cell_type": "code",
   "execution_count": 344,
   "metadata": {},
   "outputs": [
    {
     "name": "stdout",
     "output_type": "stream",
     "text": [
      "rng is a lambda function! great work so far\n",
      "running 10 random tests now\n",
      "--------------------------------------------------\n",
      "1895\n",
      "1895\n",
      "test passed, ranges are equal\n",
      "1861\n",
      "1861\n",
      "test passed, ranges are equal\n",
      "1756\n",
      "1756\n",
      "test passed, ranges are equal\n",
      "1759\n",
      "1759\n",
      "test passed, ranges are equal\n",
      "1688\n",
      "1688\n",
      "test passed, ranges are equal\n",
      "1656\n",
      "1656\n",
      "test passed, ranges are equal\n",
      "1889\n",
      "1889\n",
      "test passed, ranges are equal\n",
      "1936\n",
      "1936\n",
      "test passed, ranges are equal\n",
      "1875\n",
      "1875\n",
      "test passed, ranges are equal\n",
      "1763\n",
      "1763\n",
      "test passed, ranges are equal\n"
     ]
    }
   ],
   "source": [
    "# run these tests\n",
    "# just run this cell\n",
    "\n",
    "# this cell goes through 2 tests. \n",
    "# 1. did you write a function called rng that is actually a lambda function\n",
    "# 2. is written correctly\n",
    "try:\n",
    "    assert '<lambda>'==rng.__name__\n",
    "    print(\"rng is a lambda function! great work so far\")\n",
    "    print(\"running 10 random tests now\")\n",
    "    print(\"-\"*50)\n",
    "    for i in range(10):\n",
    "        lst = [random.randint(-1000, 1000) for i in range(random.randint(10, 20))]\n",
    "        actual_range = rng(lst)\n",
    "        expected_range = sol.levelUp_partC(lst)\n",
    "        print(rng(lst))\n",
    "        print(sol.levelUp_partC(lst))\n",
    "        try:\n",
    "            assert actual_range==expected_range\n",
    "            print('test passed, ranges are equal')\n",
    "        except:\n",
    "            print(\"expected_result does not equal actual_result\")\n",
    "    \n",
    "except:\n",
    "    print(\"rng is not a lambda function, must be a lambda function to continue\")"
   ]
  },
  {
   "cell_type": "code",
   "execution_count": 346,
   "metadata": {},
   "outputs": [
    {
     "name": "stderr",
     "output_type": "stream",
     "text": [
      "[NbConvertApp] Converting notebook assessment.ipynb to markdown\n",
      "[NbConvertApp] Writing 16472 bytes to assessment.md\n"
     ]
    }
   ],
   "source": [
    "# Convert this notebook to README by running this cell!\n",
    "!jupyter nbconvert --to markdown assessment.ipynb && mv assessment.md README.md"
   ]
  },
  {
   "cell_type": "code",
   "execution_count": null,
   "metadata": {},
   "outputs": [],
   "source": []
  }
 ],
 "metadata": {
  "kernelspec": {
   "display_name": "Python [conda env:learn-env] *",
   "language": "python",
   "name": "conda-env-learn-env-py"
  },
  "language_info": {
   "codemirror_mode": {
    "name": "ipython",
    "version": 3
   },
   "file_extension": ".py",
   "mimetype": "text/x-python",
   "name": "python",
   "nbconvert_exporter": "python",
   "pygments_lexer": "ipython3",
   "version": "3.6.9"
  },
  "toc": {
   "base_numbering": 1,
   "nav_menu": {},
   "number_sections": true,
   "sideBar": true,
   "skip_h1_title": true,
   "title_cell": "Table of Contents",
   "title_sidebar": "Contents",
   "toc_cell": true,
   "toc_position": {},
   "toc_section_display": true,
   "toc_window_display": true
  },
  "varInspector": {
   "cols": {
    "lenName": 16,
    "lenType": 16,
    "lenVar": 40
   },
   "kernels_config": {
    "python": {
     "delete_cmd_postfix": "",
     "delete_cmd_prefix": "del ",
     "library": "var_list.py",
     "varRefreshCmd": "print(var_dic_list())"
    },
    "r": {
     "delete_cmd_postfix": ") ",
     "delete_cmd_prefix": "rm(",
     "library": "var_list.r",
     "varRefreshCmd": "cat(var_dic_list()) "
    }
   },
   "types_to_exclude": [
    "module",
    "function",
    "builtin_function_or_method",
    "instance",
    "_Feature"
   ],
   "window_display": false
  }
 },
 "nbformat": 4,
 "nbformat_minor": 2
}
